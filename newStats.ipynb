{
 "metadata": {
  "name": "",
  "signature": "sha256:8dce1bb64918da497399a5d4fddcea1fb57a61e00290c6ce0c61c076fecafc67"
 },
 "nbformat": 3,
 "nbformat_minor": 0,
 "worksheets": [
  {
   "cells": [
    {
     "cell_type": "code",
     "collapsed": false,
     "input": [
      "import pymongo\n",
      "connection = pymongo.MongoClient(\"mongodb://localhost\")\n",
      "db = connection.tnt"
     ],
     "language": "python",
     "metadata": {},
     "outputs": [],
     "prompt_number": 1
    },
    {
     "cell_type": "code",
     "collapsed": false,
     "input": [
      "def runvalue(player):\n",
      "    p = db.statistics.find_one({ '_id': player })\n",
      "    average = p['BattingAverage']\n",
      "    sr = p['BattingSR']\n",
      "    try:\n",
      "        balls = 100.0 * average / sr\n",
      "    except:\n",
      "        return 0\n",
      "    ballvalue = balls * avgscore / 300\n",
      "    return average - ballvalue"
     ],
     "language": "python",
     "metadata": {},
     "outputs": [],
     "prompt_number": 32
    },
    {
     "cell_type": "code",
     "collapsed": false,
     "input": [
      "def featuresum(player):\n",
      "    p = db.scorelist.find_one({ '_id': player })\n",
      "    scores = p['Scores']\n",
      "    milestones = [score for score in scores if score>=50]\n",
      "    milestone50s = [score for score in milestones if score < 100]\n",
      "    milestone100s = [score for score in milestones if score >= 100]\n",
      "    milestoneValue = []\n",
      "    for score in milestones:\n",
      "        if score < 75:\n",
      "            milestoneValue.append(0.4)\n",
      "        elif score < 90:\n",
      "            milestoneValue.append(0.8)\n",
      "        elif score < 100:\n",
      "            milestoneValue.append(0.9)\n",
      "        elif score < 125:\n",
      "            milestoneValue.append(1.0)\n",
      "        elif score < 150:\n",
      "            milestoneValue.append(1.3)\n",
      "        elif score < 175:\n",
      "            milestoneValue.append(1.7)\n",
      "        else:\n",
      "            milestoneValue.append(2.0)\n",
      "    feature = sum(milestoneValue) + runvalue(player)\n",
      "    try:\n",
      "        feature += (5.0 * len(milestone50s) / len(scores))\n",
      "    except:\n",
      "        pass\n",
      "    try:\n",
      "        feature += (10.0 * len(milestone100s) / len(milestones))\n",
      "    except:\n",
      "        pass\n",
      "    return feature"
     ],
     "language": "python",
     "metadata": {},
     "outputs": [],
     "prompt_number": 30
    },
    {
     "cell_type": "code",
     "collapsed": false,
     "input": [
      "totals = db.odi.aggregate([{ \n",
      "    \"$group\": { \"_id\": 1, \"Total runs\": { \"$sum\": \"$Runs Batsman\" }, \"Total Balls\": { \"$sum\": 1 } } }\n",
      "])['result'][0]\n",
      "avgscore = 300.0 * totals['Total runs'] / totals['Total Balls']"
     ],
     "language": "python",
     "metadata": {},
     "outputs": [],
     "prompt_number": 6
    },
    {
     "cell_type": "code",
     "collapsed": false,
     "input": [
      "playerFeatureSums = [(player['_id'], featuresum(player['_id'])) for player in db.players.find({'Balls faced': {'$gte': 400}})]"
     ],
     "language": "python",
     "metadata": {},
     "outputs": [],
     "prompt_number": 38
    },
    {
     "cell_type": "code",
     "collapsed": false,
     "input": [
      "import operator"
     ],
     "language": "python",
     "metadata": {},
     "outputs": [],
     "prompt_number": 34
    },
    {
     "cell_type": "code",
     "collapsed": false,
     "input": [
      "sorted(playerFeatureSums, key=operator.itemgetter(1))[-10:]"
     ],
     "language": "python",
     "metadata": {},
     "outputs": [
      {
       "metadata": {},
       "output_type": "pyout",
       "prompt_number": 39,
       "text": [
        "[(u'Mohammad Hafeez', 19.390081397722494),\n",
        " (u'JP Faulkner', 20.017972167634387),\n",
        " (u'GJ Bailey', 20.305453483158733),\n",
        " (u'Q de Kock', 20.392601673765814),\n",
        " (u'SR Watson', 21.205695287929704),\n",
        " (u'HM Amla', 23.660905358346817),\n",
        " (u'MS Dhoni', 26.29333666313373),\n",
        " (u'KC Sangakkara', 27.817220014066795),\n",
        " (u'AB de Villiers', 31.66922560671017),\n",
        " (u'V Kohli', 39.86857936819784)]"
       ]
      }
     ],
     "prompt_number": 39
    },
    {
     "cell_type": "code",
     "collapsed": false,
     "input": [
      "def stdstats(player):\n",
      "    p = db.statistics.find_one({ '_id': player })\n",
      "    avg = 10.0 * (p['BattingAverage'] / 50.0)\n",
      "    sr = 10.0 * (p['BattingSR'] / 120.0)\n",
      "    ph = 10.0 * (p['BattingPinchHitting'] / 15.93)\n",
      "    return avg + sr + ph"
     ],
     "language": "python",
     "metadata": {},
     "outputs": [],
     "prompt_number": 48
    },
    {
     "cell_type": "code",
     "collapsed": false,
     "input": [
      "playerStdStats = [(player['_id'], stdstats(player['_id'])) for player in db.players.find({'Balls faced': {'$gte': 400}})]"
     ],
     "language": "python",
     "metadata": {},
     "outputs": [],
     "prompt_number": 44
    },
    {
     "cell_type": "code",
     "collapsed": false,
     "input": [
      "sorted(playerStdStats, key=operator.itemgetter(1))[-10:]"
     ],
     "language": "python",
     "metadata": {},
     "outputs": [
      {
       "metadata": {},
       "output_type": "pyout",
       "prompt_number": 45,
       "text": [
        "[(u'SR Watson', 20.86067248729732),\n",
        " (u'Q de Kock', 21.099119635086307),\n",
        " (u'GJ Bailey', 21.18176670310305),\n",
        " (u'JC Buttler', 21.95111410387132),\n",
        " (u'V Kohli', 22.5558216928728),\n",
        " (u'GJ Maxwell', 22.647018204645324),\n",
        " (u'AD Russell', 22.84155844665644),\n",
        " (u'JP Faulkner', 23.391258134428625),\n",
        " (u'AB de Villiers', 23.904656021312185),\n",
        " (u'MS Dhoni', 26.764143340791176)]"
       ]
      }
     ],
     "prompt_number": 45
    },
    {
     "cell_type": "code",
     "collapsed": false,
     "input": [
      "playerTotalStats = [(player['_id'], featuresum(player['_id']) + stdstats(player['_id'])) \n",
      "                    for player in db.players.find({'Balls faced': {'$gte': 400}})]"
     ],
     "language": "python",
     "metadata": {},
     "outputs": [],
     "prompt_number": 49
    },
    {
     "cell_type": "code",
     "collapsed": false,
     "input": [
      "sorted(playerTotalStats, key=operator.itemgetter(1))[-20:]"
     ],
     "language": "python",
     "metadata": {},
     "outputs": [
      {
       "metadata": {},
       "output_type": "pyout",
       "prompt_number": 53,
       "text": [
        "[(u'Shahid Afridi', 38.24883833406406),\n",
        " (u'MJ Guptill', 38.421970638255395),\n",
        " (u'BB McCullum', 38.99436528396403),\n",
        " (u'Mohammad Hafeez', 39.33791588056667),\n",
        " (u'TM Dilshan', 39.39183758392811),\n",
        " (u'V Sehwag', 40.122763362754604),\n",
        " (u'LRPL Taylor', 40.473030878172494),\n",
        " (u'S Dhawan', 40.80353327051276),\n",
        " (u'AD Russell', 42.78846054972185),\n",
        " (u'GJ Maxwell', 44.535433159135245),\n",
        " (u'GJ Bailey', 44.57918295383348),\n",
        " (u'Q de Kock', 45.10924288098444),\n",
        " (u'JC Buttler', 45.29720931273451),\n",
        " (u'SR Watson', 46.66864331595946),\n",
        " (u'HM Amla', 47.25817058879925),\n",
        " (u'JP Faulkner', 48.06051860240416),\n",
        " (u'KC Sangakkara', 49.34612587743932),\n",
        " (u'MS Dhoni', 56.626581822014984),\n",
        " (u'AB de Villiers', 59.05101296982872),\n",
        " (u'V Kohli', 65.7153969607395)]"
       ]
      }
     ],
     "prompt_number": 53
    },
    {
     "cell_type": "code",
     "collapsed": false,
     "input": [
      "indTotalStats = [(player['_id'], featuresum(player['_id']) + stdstats(player['_id'])) \n",
      "                 for player in db.players.find({'Balls faced': {'$gte': 200}, 'Team': 'India'})]"
     ],
     "language": "python",
     "metadata": {},
     "outputs": [],
     "prompt_number": 54
    },
    {
     "cell_type": "code",
     "collapsed": false,
     "input": [
      "sorted(indTotalStats, key=operator.itemgetter(1))[-10:]"
     ],
     "language": "python",
     "metadata": {},
     "outputs": [
      {
       "metadata": {},
       "output_type": "pyout",
       "prompt_number": 55,
       "text": [
        "[(u'MK Tiwary', 25.031615457031037),\n",
        " (u'RA Jadeja', 26.869255386629256),\n",
        " (u'SR Tendulkar', 27.505769111923733),\n",
        " (u'G Gambhir', 30.420333603509228),\n",
        " (u'SK Raina', 35.07664465188411),\n",
        " (u'RG Sharma', 36.935918480111205),\n",
        " (u'V Sehwag', 40.122763362754604),\n",
        " (u'S Dhawan', 40.80353327051276),\n",
        " (u'MS Dhoni', 56.626581822014984),\n",
        " (u'V Kohli', 65.7153969607395)]"
       ]
      }
     ],
     "prompt_number": 55
    },
    {
     "cell_type": "code",
     "collapsed": false,
     "input": [
      "ballsStart = 1.0 * db.odi.aggregate([\n",
      "    { \"$match\": { \"Over\": { \"$lte\": 15 } } }, \n",
      "    { \"$group\": { \"_id\": 1, \"Balls\": { \"$sum\": 1 } } }\n",
      "])['result'][0]['Balls']\n",
      "ballsMid = 1.0 * db.odi.aggregate([\n",
      "    { \"$match\": { \"Over\": { \"$gte\": 15, \"$lte\": 40 } } }, \n",
      "    { \"$group\": { \"_id\": 1, \"Balls\": { \"$sum\": 1 } } }\n",
      "])['result'][0]['Balls']\n",
      "ballsEnd = 1.0 * db.odi.aggregate([\n",
      "    { \"$match\": { \"Over\": { \"$gte\": 40 } } }, \n",
      "    { \"$group\": { \"_id\": 1, \"Balls\": { \"$sum\": 1 } } }\n",
      "])['result'][0]['Balls']\n",
      "\n",
      "dotStart = 1.0 * db.odi.aggregate([\n",
      "    { \"$match\": { \"Over\": { \"$lte\": 15 }, \"Total Runs\": 0 } }, \n",
      "    { \"$group\": { \"_id\": 1, \"Dots\": { \"$sum\": 1 } } }\n",
      "])['result'][0]['Dots']\n",
      "dotMid = 1.0 * db.odi.aggregate([\n",
      "    { \"$match\": { \"Over\": { \"$gte\": 15, \"$lte\": 40 }, \"Total Runs\": 0 } }, \n",
      "    { \"$group\": { \"_id\": 1, \"Dots\": { \"$sum\": 1 } } }\n",
      "])['result'][0]['Dots']\n",
      "dotEnd = 1.0 * db.odi.aggregate([\n",
      "    { \"$match\": { \"Over\": { \"$gte\": 40 }, \"Total Runs\": 0 } }, \n",
      "    { \"$group\": { \"_id\": 1, \"Dots\": { \"$sum\": 1 } } }\n",
      "])['result'][0]['Dots']\n",
      "\n",
      "bndStart = 1.0 * db.odi.aggregate([\n",
      "    { \"$match\": { \"Over\": { \"$lte\": 15 }, \"Total Runs\": { \"$gte\": 4 } } }, \n",
      "    { \"$group\": { \"_id\": 1, \"Boundaries\": { \"$sum\": 1 } } }\n",
      "])['result'][0]['Boundaries']\n",
      "bndMid = 1.0 * db.odi.aggregate([\n",
      "    { \"$match\": { \"Over\": { \"$gte\": 15, \"$lte\": 40 }, \"Total Runs\": { \"$gte\": 4 } } }, \n",
      "    { \"$group\": { \"_id\": 1, \"Boundaries\": { \"$sum\": 1 } } }\n",
      "])['result'][0]['Boundaries']\n",
      "bndEnd = 1.0 * db.odi.aggregate([\n",
      "    { \"$match\": { \"Over\": { \"$gte\": 40 }, \"Total Runs\": { \"$gte\": 4 } } }, \n",
      "    { \"$group\": { \"_id\": 1, \"Boundaries\": { \"$sum\": 1 } } }\n",
      "])['result'][0]['Boundaries']\n",
      "\n",
      "runsStart = 1.0 * db.odi.aggregate([\n",
      "    { \"$match\": { \"Over\": { \"$lte\": 15 } } }, \n",
      "    { \"$group\": { \"_id\": 1, \"Runs\": { \"$sum\": \"$Total Runs\" } } }\n",
      "])['result'][0]['Runs']\n",
      "runsMid = 1.0 * db.odi.aggregate([\n",
      "    { \"$match\": { \"Over\": { \"$gte\": 15, \"$lte\": 40 } } }, \n",
      "    { \"$group\": { \"_id\": 1, \"Runs\": { \"$sum\": \"$Total Runs\" } } }\n",
      "])['result'][0]['Runs']\n",
      "runsEnd = 1.0 * db.odi.aggregate([\n",
      "    { \"$match\": { \"Over\": { \"$gte\": 40 } } }, \n",
      "    { \"$group\": { \"_id\": 1, \"Runs\": { \"$sum\": \"$Total Runs\" } } }\n",
      "])['result'][0]['Runs']\n",
      "\n",
      "wickStart = 1.0 * db.odi.aggregate([\n",
      "    { \"$match\": { \"Over\": { \"$lte\": 15 }, \"Wicket Kind\": \n",
      "                 { \"$in\": [\"bowled\", \"caught\", \"caught and bowled\", \"lbw\", \"stumped\", \"hit wicket\"] } } }, \n",
      "    { \"$group\": { \"_id\": 1, \"Wickets\": { \"$sum\": 1 } } }\n",
      "])['result'][0]['Wickets']\n",
      "wickMid = 1.0 * db.odi.aggregate([\n",
      "    { \"$match\": { \"Over\": { \"$gte\": 15, \"$lte\": 40 }, \"Wicket Kind\": \n",
      "                 { \"$in\": [\"bowled\", \"caught\", \"caught and bowled\", \"lbw\", \"stumped\", \"hit wicket\"] } } }, \n",
      "    { \"$group\": { \"_id\": 1, \"Wickets\": { \"$sum\": 1 } } }\n",
      "])['result'][0]['Wickets']\n",
      "wickEnd = 1.0 * db.odi.aggregate([\n",
      "    { \"$match\": { \"Over\": { \"$gte\": 40 }, \"Wicket Kind\": \n",
      "                 { \"$in\": [\"bowled\", \"caught\", \"caught and bowled\", \"lbw\", \"stumped\", \"hit wicket\"] } } }, \n",
      "    { \"$group\": { \"_id\": 1, \"Wickets\": { \"$sum\": 1 } } }\n",
      "])['result'][0]['Wickets']"
     ],
     "language": "python",
     "metadata": {},
     "outputs": [],
     "prompt_number": 99
    },
    {
     "cell_type": "code",
     "collapsed": false,
     "input": [
      "avgDotStart = dotStart / ballsStart\n",
      "avgDotMid = dotMid / ballsMid\n",
      "avgDotEnd = dotEnd / ballsEnd\n",
      "avgBndStart = bndStart / ballsStart\n",
      "avgBndMid = bndMid / ballsMid\n",
      "avgBndEnd = bndEnd / ballsEnd\n",
      "avgEcoStart = runsStart / ballsStart\n",
      "avgEcoMid = runsMid / ballsMid\n",
      "avgEcoEnd = runsEnd / ballsEnd\n",
      "avgWickStart = wickStart / ballsStart\n",
      "avgWickMid = wickMid / ballsMid\n",
      "avgWickEnd = wickEnd / ballsEnd"
     ],
     "language": "python",
     "metadata": {},
     "outputs": [],
     "prompt_number": 100
    },
    {
     "cell_type": "code",
     "collapsed": false,
     "input": [
      "def bowlStats(player):\n",
      "    try:\n",
      "        ballsStart = db.ballsStart.find_one({ '_id': player })['Balls']\n",
      "    except TypeError:\n",
      "        ballsStart = []\n",
      "    try:\n",
      "        ballsMid = db.ballsMid.find_one({ '_id': player })['Balls']\n",
      "    except TypeError:\n",
      "        ballsMid = []\n",
      "    try:\n",
      "        ballsEnd = db.ballsEnd.find_one({ '_id': player })['Balls']\n",
      "    except TypeError:\n",
      "        ballsEnd = []\n",
      "    try:\n",
      "        wicketsStart = db.wicketsStart.find_one({ '_id': player })['Wickets']\n",
      "    except TypeError:\n",
      "        wicketsStart = 0\n",
      "    try:\n",
      "        wicketsMid = db.wicketsMid.find_one({ '_id': player })['Wickets']\n",
      "    except TypeError:\n",
      "        wicketsMid = 0\n",
      "    try:\n",
      "        wicketsEnd = db.wicketsEnd.find_one({ '_id': player })['Wickets']\n",
      "    except TypeError:\n",
      "        wicketsEnd = 0\n",
      "    totalStart = len(ballsStart)\n",
      "    totalMid = len(ballsMid)\n",
      "    totalEnd = len(ballsEnd)\n",
      "    dotsBowledStart = ballsStart.count(0)\n",
      "    dotsBowledMid = ballsMid.count(0)\n",
      "    dotsBowledEnd = ballsEnd.count(0)\n",
      "    runsConcededStart = sum(ballsStart)\n",
      "    runsConcededMid = sum(ballsMid)\n",
      "    runsConcededEnd = sum(ballsEnd)\n",
      "    boundariesStart = sum([ballsStart.count(b) for b in [4, 5, 6, 7]])\n",
      "    boundariesMid = sum([ballsMid.count(b) for b in [4, 5, 6, 7]])\n",
      "    boundariesEnd = sum([ballsEnd.count(b) for b in [4, 5, 6, 7]])\n",
      "    if totalStart > 240:\n",
      "        dScoreStart = (1.0 * dotsBowledStart / totalStart) / avgDotStart\n",
      "        if dScoreStart < 1.0:\n",
      "            dScoreStart = -45.0 * (1.0 - dScoreStart)\n",
      "        else:\n",
      "            dScoreStart = 45.0 * (dScoreStart - 1.0) \n",
      "        bScoreStart = (1.0 * boundariesStart / totalStart) / avgBndStart\n",
      "        if bScoreStart < 1.0:\n",
      "            bScoreStart = -30.0 * (1.0 - bScoreStart)\n",
      "        else:\n",
      "            bScoreStart = 30.0 * (bScoreStart - 1.0)\n",
      "        eScoreStart = (1.0 * runsConcededStart / totalStart) / avgEcoStart\n",
      "        if eScoreStart < 1.0:\n",
      "            eScoreStart = -30.0 * (1.0 - eScoreStart)\n",
      "        else:\n",
      "            eScoreStart = 30.0 * (eScoreStart - 1.0)\n",
      "        wScoreStart = (1.0 * wicketsStart / totalStart) / avgWickStart\n",
      "        if wScoreStart < 1.0:\n",
      "            wScoreStart = -45.0 * (1.0 - wScoreStart)\n",
      "        else:\n",
      "            wScoreStart = 45.0 * (wScoreStart - 1.0)\n",
      "    else:\n",
      "        dScoreStart = bScoreStart = eScoreStart = wScoreStart = 0\n",
      "    if totalMid > 360:\n",
      "        dScoreMid = (1.0 * dotsBowledMid / totalMid) / avgDotMid\n",
      "        if dScoreMid < 1.0:\n",
      "            dScoreMid = -24.0 * (1.0 - dScoreMid)\n",
      "        else:\n",
      "            dScoreMid = 15.0 * (dScoreMid - 1.0) \n",
      "        bScoreMid = (1.0 * boundariesMid / totalMid) / avgBndMid\n",
      "        if bScoreMid < 1.0:\n",
      "            bScoreMid = -15.0 * (1.0 - bScoreMid)\n",
      "        else:\n",
      "            bScoreMid = 12.0 * (bScoreMid - 1.0)\n",
      "        eScoreMid = (1.0 * runsConcededMid / totalMid) / avgEcoMid\n",
      "        if eScoreMid < 1.0:\n",
      "            eScoreMid = -15.0 * (1.0 - eScoreMid)\n",
      "        else:\n",
      "            eScoreMid = 15.0 * (eScoreMid - 1.0)\n",
      "        wScoreMid = (1.0 * wicketsMid / totalMid) / avgWickMid\n",
      "        if wScoreMid < 1.0:\n",
      "            wScoreMid = -30.0 * (1.0 - wScoreMid)\n",
      "        else:\n",
      "            wScoreMid = 30.0 * (wScoreMid - 1.0)\n",
      "    else:\n",
      "        dScoreMid = bScoreMid = eScoreMid = wScoreMid = 0\n",
      "    if totalEnd > 120:\n",
      "        dScoreEnd = (1.0 * dotsBowledEnd / totalEnd) / avgDotEnd\n",
      "        if dScoreEnd < 1.0:\n",
      "            dScoreEnd = -75.0 * (1.0 - dScoreEnd)\n",
      "        else:\n",
      "            dScoreEnd = 75.0 * (dScoreEnd - 1.0) \n",
      "        bScoreEnd = (1.0 * boundariesEnd / totalEnd) / avgBndEnd\n",
      "        if bScoreEnd < 1.0:\n",
      "            bScoreEnd = -45.0 * (1.0 - bScoreEnd)\n",
      "        else:\n",
      "            bScoreEnd = 45.0 * (bScoreEnd - 1.0)\n",
      "        eScoreEnd = (1.0 * runsConcededEnd / totalEnd) / avgEcoEnd\n",
      "        if eScoreEnd < 1.0:\n",
      "            eScoreEnd = -30.0 * (1.0 - eScoreEnd)\n",
      "        else:\n",
      "            eScoreEnd = 45.0 * (eScoreEnd - 1.0)\n",
      "        wScoreEnd = (1.0 * wicketsEnd / totalEnd) / avgWickEnd\n",
      "        if wScoreEnd < 1.0:\n",
      "            wScoreEnd = -30.0 * (1.0 - wScoreEnd)\n",
      "        else:\n",
      "            wScoreEnd = 30.0 * (wScoreEnd - 1.0)\n",
      "    else:\n",
      "        dScoreEnd = bScoreEnd = eScoreEnd = wScoreEnd = 0\n",
      "    p = db.statistics.find_one({ '_id': player })\n",
      "    wicketsper10 = p['BowlingWicketsPer10'] / 2.0\n",
      "    if wicketsper10 > (1.1 / 2.0):\n",
      "        wicketsper10 = 75.0 * wicketsper10\n",
      "    else:\n",
      "        wicketsper10 = -37.5 * wicketsper10\n",
      "    overs100runs = p['BowlingOvers100Runs'] / 25.0\n",
      "    if overs100runs > (19.0 / 25.0):\n",
      "        overs100runs = 60.0 * overs100runs\n",
      "    else:\n",
      "        overs100runs = -30.0 * overs100runs\n",
      "    overs10boundaries = p['BowlingOvers10Boundaries'] / 27.0\n",
      "    if overs10boundaries > (14.5 / 25):\n",
      "        overs10boundaries = 45.0 * overs10boundaries\n",
      "    else:\n",
      "        overs10boundaries = -22.5 * overs10boundaries\n",
      "    oversextras = p['BowlingOversExtras'] / 15.0\n",
      "    if oversextras > (3.7 / 15.0):\n",
      "        oversextras = 15.0 * oversextras\n",
      "    else:\n",
      "        oversextras = -7.5 * oversextras\n",
      "#     print wicketsper10, overs100runs, overs10boundaries, oversextras, dScoreStart, dScoreMid, dScoreEnd, bScoreStart, bScoreMid, bScoreEnd, eScoreStart, eScoreMid, eScoreEnd, wScoreStart, wScoreMid, wScoreEnd\n",
      "#     return wicketsper10 + overs100runs + overs10boundaries + oversextras + dScoreStart + dScoreMid + dScoreEnd + bScoreStart + bScoreMid + bScoreEnd + eScoreStart + eScoreMid + eScoreEnd + wScoreStart + wScoreMid + wScoreEnd\n",
      "    return (wicketsper10 + overs100runs + overs10boundaries + oversextras) + ((dScoreStart + dScoreMid + dScoreEnd) / 3.0) + ((bScoreStart + bScoreMid + bScoreEnd) / 3.0) + ((eScoreStart + eScoreMid + eScoreEnd) / 3.0) + ((wScoreStart + wScoreMid + wScoreEnd) / 3.0) \n",
      "    "
     ],
     "language": "python",
     "metadata": {},
     "outputs": [],
     "prompt_number": 326
    },
    {
     "cell_type": "code",
     "collapsed": false,
     "input": [
      "def indBowlStats(player):\n",
      "    try:\n",
      "        ballsStart = db.ballsStart.find_one({ '_id': player })['Balls']\n",
      "    except TypeError:\n",
      "        ballsStart = []\n",
      "    try:\n",
      "        ballsMid = db.ballsMid.find_one({ '_id': player })['Balls']\n",
      "    except TypeError:\n",
      "        ballsMid = []\n",
      "    try:\n",
      "        ballsEnd = db.ballsEnd.find_one({ '_id': player })['Balls']\n",
      "    except TypeError:\n",
      "        ballsEnd = []\n",
      "    try:\n",
      "        wicketsStart = db.wicketsStart.find_one({ '_id': player })['Wickets']\n",
      "    except TypeError:\n",
      "        wicketsStart = 0\n",
      "    try:\n",
      "        wicketsMid = db.wicketsMid.find_one({ '_id': player })['Wickets']\n",
      "    except TypeError:\n",
      "        wicketsMid = 0\n",
      "    try:\n",
      "        wicketsEnd = db.wicketsEnd.find_one({ '_id': player })['Wickets']\n",
      "    except TypeError:\n",
      "        wicketsEnd = 0\n",
      "    totalStart = len(ballsStart)\n",
      "    totalMid = len(ballsMid)\n",
      "    totalEnd = len(ballsEnd)\n",
      "    dotsBowledStart = ballsStart.count(0)\n",
      "    dotsBowledMid = ballsMid.count(0)\n",
      "    dotsBowledEnd = ballsEnd.count(0)\n",
      "    runsConcededStart = sum(ballsStart)\n",
      "    runsConcededMid = sum(ballsMid)\n",
      "    runsConcededEnd = sum(ballsEnd)\n",
      "    boundariesStart = sum([ballsStart.count(b) for b in [4, 5, 6, 7]])\n",
      "    boundariesMid = sum([ballsMid.count(b) for b in [4, 5, 6, 7]])\n",
      "    boundariesEnd = sum([ballsEnd.count(b) for b in [4, 5, 6, 7]])\n",
      "    if totalStart > 180:\n",
      "        dScoreStart = (1.0 * dotsBowledStart / totalStart) / avgDotStart\n",
      "        if dScoreStart < 1.0:\n",
      "            dScoreStart = -45.0 * (1.0 - dScoreStart)\n",
      "        else:\n",
      "            dScoreStart = 45.0 * (dScoreStart - 1.0) \n",
      "        bScoreStart = (1.0 * boundariesStart / totalStart) / avgBndStart\n",
      "        if bScoreStart < 1.0:\n",
      "            bScoreStart = -30.0 * (1.0 - bScoreStart)\n",
      "        else:\n",
      "            bScoreStart = 30.0 * (bScoreStart - 1.0)\n",
      "        eScoreStart = (1.0 * runsConcededStart / totalStart) / avgEcoStart\n",
      "        if eScoreStart < 1.0:\n",
      "            eScoreStart = -30.0 * (1.0 - eScoreStart)\n",
      "        else:\n",
      "            eScoreStart = 30.0 * (eScoreStart - 1.0)\n",
      "        wScoreStart = (1.0 * wicketsStart / totalStart) / avgWickStart\n",
      "        if wScoreStart < 1.0:\n",
      "            wScoreStart = -45.0 * (1.0 - wScoreStart)\n",
      "        else:\n",
      "            wScoreStart = 45.0 * (wScoreStart - 1.0)\n",
      "    else:\n",
      "        dScoreStart = bScoreStart = eScoreStart = wScoreStart = 0\n",
      "    if totalMid > 240:\n",
      "        dScoreMid = (1.0 * dotsBowledMid / totalMid) / avgDotMid\n",
      "        if dScoreMid < 1.0:\n",
      "            dScoreMid = -24.0 * (1.0 - dScoreMid)\n",
      "        else:\n",
      "            dScoreMid = 15.0 * (dScoreMid - 1.0) \n",
      "        bScoreMid = (1.0 * boundariesMid / totalMid) / avgBndMid\n",
      "        if bScoreMid < 1.0:\n",
      "            bScoreMid = -15.0 * (1.0 - bScoreMid)\n",
      "        else:\n",
      "            bScoreMid = 12.0 * (bScoreMid - 1.0)\n",
      "        eScoreMid = (1.0 * runsConcededMid / totalMid) / avgEcoMid\n",
      "        if eScoreMid < 1.0:\n",
      "            eScoreMid = -15.0 * (1.0 - eScoreMid)\n",
      "        else:\n",
      "            eScoreMid = 15.0 * (eScoreMid - 1.0)\n",
      "        wScoreMid = (1.0 * wicketsMid / totalMid) / avgWickMid\n",
      "        if wScoreMid < 1.0:\n",
      "            wScoreMid = -30.0 * (1.0 - wScoreMid)\n",
      "        else:\n",
      "            wScoreMid = 30.0 * (wScoreMid - 1.0)\n",
      "    else:\n",
      "        dScoreMid = bScoreMid = eScoreMid = wScoreMid = 0\n",
      "    if totalEnd > 120:\n",
      "        dScoreEnd = (1.0 * dotsBowledEnd / totalEnd) / avgDotEnd\n",
      "        if dScoreEnd < 1.0:\n",
      "            dScoreEnd = -75.0 * (1.0 - dScoreEnd)\n",
      "        else:\n",
      "            dScoreEnd = 75.0 * (dScoreEnd - 1.0) \n",
      "        bScoreEnd = (1.0 * boundariesEnd / totalEnd) / avgBndEnd\n",
      "        if bScoreEnd < 1.0:\n",
      "            bScoreEnd = -45.0 * (1.0 - bScoreEnd)\n",
      "        else:\n",
      "            bScoreEnd = 45.0 * (bScoreEnd - 1.0)\n",
      "        eScoreEnd = (1.0 * runsConcededEnd / totalEnd) / avgEcoEnd\n",
      "        if eScoreEnd < 1.0:\n",
      "            eScoreEnd = -30.0 * (1.0 - eScoreEnd)\n",
      "        else:\n",
      "            eScoreEnd = 45.0 * (eScoreEnd - 1.0)\n",
      "        wScoreEnd = (1.0 * wicketsEnd / totalEnd) / avgWickEnd\n",
      "        if wScoreEnd < 1.0:\n",
      "            wScoreEnd = -30.0 * (1.0 - wScoreEnd)\n",
      "        else:\n",
      "            wScoreEnd = 30.0 * (wScoreEnd - 1.0)\n",
      "    else:\n",
      "        dScoreEnd = bScoreEnd = eScoreEnd = wScoreEnd = 0\n",
      "    p = db.statistics.find_one({ '_id': player })\n",
      "    wicketsper10 = p['BowlingWicketsPer10'] / 2.0\n",
      "    if wicketsper10 > (1.1 / 2.0):\n",
      "        wicketsper10 = 75.0 * wicketsper10\n",
      "    else:\n",
      "        wicketsper10 = -37.5 * wicketsper10\n",
      "    overs100runs = p['BowlingOvers100Runs'] / 25.0\n",
      "    if overs100runs > (19.0 / 25.0):\n",
      "        overs100runs = 60.0 * overs100runs\n",
      "    else:\n",
      "        overs100runs = -30.0 * overs100runs\n",
      "    overs10boundaries = p['BowlingOvers10Boundaries'] / 27.0\n",
      "    if overs10boundaries > (14.5 / 25):\n",
      "        overs10boundaries = 45.0 * overs10boundaries\n",
      "    else:\n",
      "        overs10boundaries = -22.5 * overs10boundaries\n",
      "    oversextras = p['BowlingOversExtras'] / 15.0\n",
      "    if oversextras > (3.7 / 15.0):\n",
      "        oversextras = 15.0 * oversextras\n",
      "    else:\n",
      "        oversextras = -7.5 * oversextras\n",
      "#     print wicketsper10, overs100runs, overs10boundaries, oversextras, dScoreStart, dScoreMid, dScoreEnd, bScoreStart, bScoreMid, bScoreEnd, eScoreStart, eScoreMid, eScoreEnd, wScoreStart, wScoreMid, wScoreEnd\n",
      "#     return wicketsper10 + overs100runs + overs10boundaries + oversextras + dScoreStart + dScoreMid + dScoreEnd + bScoreStart + bScoreMid + bScoreEnd + eScoreStart + eScoreMid + eScoreEnd + wScoreStart + wScoreMid + wScoreEnd\n",
      "    return (wicketsper10 + overs100runs + overs10boundaries + oversextras) + ((dScoreStart + dScoreMid + dScoreEnd) / 3.0) + ((bScoreStart + bScoreMid + bScoreEnd) / 3.0) + ((eScoreStart + eScoreMid + eScoreEnd) / 3.0) + ((wScoreStart + wScoreMid + wScoreEnd) / 3.0) \n",
      "    "
     ],
     "language": "python",
     "metadata": {},
     "outputs": [],
     "prompt_number": 327
    },
    {
     "cell_type": "code",
     "collapsed": false,
     "input": [
      "bowlers = [(player['_id'], bowlStats(player['_id'])) for player in db.players.find({'Balls bowled': {\"$gte\": 1250}})]"
     ],
     "language": "python",
     "metadata": {},
     "outputs": [],
     "prompt_number": 328
    },
    {
     "cell_type": "code",
     "collapsed": false,
     "input": [
      "sorted(bowlers, key=operator.itemgetter(1))[-10:]"
     ],
     "language": "python",
     "metadata": {},
     "outputs": [
      {
       "metadata": {},
       "output_type": "pyout",
       "prompt_number": 329,
       "text": [
        "[(u'SP Narine', 165.20184544827356),\n",
        " (u'GP Swann', 165.4578846004142),\n",
        " (u'RA Jadeja', 166.21056572574827),\n",
        " (u'R McLaren', 173.16118940625398),\n",
        " (u'M Morkel', 175.371088106162),\n",
        " (u'HMRKB Herath', 175.7311255552162),\n",
        " (u'Saeed Ajmal', 181.05339212598054),\n",
        " (u'DW Steyn', 183.76626454997597),\n",
        " (u'JM Anderson', 184.97882043115317),\n",
        " (u'JC Tredwell', 243.72363545201438)]"
       ]
      }
     ],
     "prompt_number": 329
    },
    {
     "cell_type": "code",
     "collapsed": false,
     "input": [
      "indBowlers = [(player['_id'], indBowlStats(player['_id'])) for player in db.players.find({'Balls bowled': {\"$gte\": 750}, 'Team': 'India'})]"
     ],
     "language": "python",
     "metadata": {},
     "outputs": [],
     "prompt_number": 390
    },
    {
     "cell_type": "code",
     "collapsed": false,
     "input": [
      "sorted(indBowlers, key=operator.itemgetter(1))[-10:]"
     ],
     "language": "python",
     "metadata": {},
     "outputs": [
      {
       "metadata": {},
       "output_type": "pyout",
       "prompt_number": 391,
       "text": [
        "[(u'I Sharma', 45.16832967302321),\n",
        " (u'UT Yadav', 46.07033740768722),\n",
        " (u'R Vinay Kumar', 49.91514457790841),\n",
        " (u'SK Raina', 80.2765174692456),\n",
        " (u'Mohammed Shami', 82.99416925815135),\n",
        " (u'B Kumar', 93.08949340740888),\n",
        " (u'P Kumar', 112.7989026754889),\n",
        " (u'R Ashwin', 130.9888969853051),\n",
        " (u'RA Jadeja', 166.21056572574827),\n",
        " (u'A Mishra', 210.0273156197658)]"
       ]
      }
     ],
     "prompt_number": 391
    },
    {
     "cell_type": "code",
     "collapsed": false,
     "input": [
      "allrounders = [(player['_id'], (50.0 * (featuresum(player['_id']) + stdstats(player['_id'])) / 40.0) + (50.0 * bowlStats(player['_id'])) / 140.0) \n",
      "                 for player in db.players.find({'Balls faced': {'$gte': 500}, 'Balls bowled': {'$gte': 500}})]"
     ],
     "language": "python",
     "metadata": {},
     "outputs": [],
     "prompt_number": 392
    },
    {
     "cell_type": "code",
     "collapsed": false,
     "input": [
      "sorted(allrounders, key=operator.itemgetter(1))[-10:]"
     ],
     "language": "python",
     "metadata": {},
     "outputs": [
      {
       "metadata": {},
       "output_type": "pyout",
       "prompt_number": 393,
       "text": [
        "[(u'DJ Bravo', 81.74188744357116),\n",
        " (u'Mahmudullah', 81.83049236624328),\n",
        " (u'AD Mathews', 82.97533992159283),\n",
        " (u'Mohammad Hafeez', 84.90462500729424),\n",
        " (u'RS Bopara', 85.12977239234912),\n",
        " (u'Shakib Al Hasan', 87.80805669131317),\n",
        " (u'RA Jadeja', 92.94748556391096),\n",
        " (u'AD Russell', 95.4150601340983),\n",
        " (u'Shahid Afridi', 97.85109207429593),\n",
        " (u'SR Watson', 107.34441518592311)]"
       ]
      }
     ],
     "prompt_number": 393
    },
    {
     "cell_type": "code",
     "collapsed": false,
     "input": [
      "arPicks = [\"JP Faulkner\", \"Shahid Afridi\", \"AD Russell\"]\n",
      "arPickValues = [(player, (50.0 * (featuresum(player) + stdstats(player)) / 40.0), (50.0 * bowlStats(player) / 140.0))\n",
      "                for player in arPicks]"
     ],
     "language": "python",
     "metadata": {},
     "outputs": [],
     "prompt_number": 363
    },
    {
     "cell_type": "code",
     "collapsed": false,
     "input": [
      "arPickValues"
     ],
     "language": "python",
     "metadata": {},
     "outputs": [
      {
       "metadata": {},
       "output_type": "pyout",
       "prompt_number": 364,
       "text": [
        "[('JP Faulkner', 60.07564825300519, 19.59374172199674),\n",
        " ('Shahid Afridi', 47.811047917580076, 50.04004415671586),\n",
        " ('AD Russell', 53.48557568715231, 41.92948444694599)]"
       ]
      }
     ],
     "prompt_number": 364
    },
    {
     "cell_type": "code",
     "collapsed": false,
     "input": [
      "teamDraft = allstars[:]\n",
      "teamDraft.remove('Shahid Afridi')\n",
      "teamDraft"
     ],
     "language": "python",
     "metadata": {},
     "outputs": [
      {
       "metadata": {},
       "output_type": "pyout",
       "prompt_number": 357,
       "text": [
        "['SR Watson',\n",
        " 'HM Amla',\n",
        " 'KC Sangakkara',\n",
        " 'V Kohli',\n",
        " 'AB de Villiers',\n",
        " 'MS Dhoni',\n",
        " 'JC Tredwell',\n",
        " 'DW Steyn',\n",
        " 'Saeed Ajmal',\n",
        " 'JM Anderson']"
       ]
      }
     ],
     "prompt_number": 357
    },
    {
     "cell_type": "code",
     "collapsed": false,
     "input": [
      "battingIndex = sum([(50.0 * (featuresum(player) + stdstats(player)) / 40.0) for player in teamDraft])\n",
      "bowlingIndex = sum([(50.0 * bowlStats(player) / 140.0) for player in teamDraft])"
     ],
     "language": "python",
     "metadata": {},
     "outputs": [],
     "prompt_number": 365
    },
    {
     "cell_type": "code",
     "collapsed": false,
     "input": [
      "print battingIndex, bowlingIndex"
     ],
     "language": "python",
     "metadata": {},
     "outputs": [
      {
       "output_type": "stream",
       "stream": "stdout",
       "text": [
        "425.96208963 358.29936897\n"
       ]
      }
     ],
     "prompt_number": 366
    },
    {
     "cell_type": "code",
     "collapsed": false,
     "input": [
      "print 'With Faulkner'\n",
      "print battingIndex + arPickValues[0][1], bowlingIndex + arPickValues[0][2]\n",
      "print (battingIndex + arPickValues[0][1]) * (bowlingIndex + arPickValues[0][2])\n",
      "print 'With Afridi'\n",
      "print battingIndex + arPickValues[1][1], bowlingIndex + arPickValues[1][2]\n",
      "print (battingIndex + arPickValues[1][1]) * (bowlingIndex + arPickValues[1][2])\n",
      "print 'With Russell'\n",
      "print battingIndex + arPickValues[2][1], bowlingIndex + arPickValues[2][2]\n",
      "print (battingIndex + arPickValues[2][1]) * (bowlingIndex + arPickValues[2][2])\n"
     ],
     "language": "python",
     "metadata": {},
     "outputs": [
      {
       "output_type": "stream",
       "stream": "stdout",
       "text": [
        "With Faulkner\n",
        "486.037737883 377.893110692\n",
        "183670.312682\n",
        "With Afridi\n",
        "473.773137547 408.339413127\n",
        "193460.244941\n",
        "With Russell\n",
        "479.447665317 400.228853417\n",
        "191888.789363\n"
       ]
      }
     ],
     "prompt_number": 370
    },
    {
     "cell_type": "code",
     "collapsed": false,
     "input": [
      "indAllrounders = [(player['_id'], (50.0 * (featuresum(player['_id']) + stdstats(player['_id'])) / 40.0) + (50.0 * bowlStats(player['_id'])) / 140.0) \n",
      "                  for player in db.players.find({'Balls faced': {'$gte': 200}, 'Balls bowled': {'$gte': 200}, 'Team': 'India'})]"
     ],
     "language": "python",
     "metadata": {},
     "outputs": [],
     "prompt_number": 376
    },
    {
     "cell_type": "code",
     "collapsed": false,
     "input": [
      "sorted(indAllrounders, key=operator.itemgetter(1))[-10:]"
     ],
     "language": "python",
     "metadata": {},
     "outputs": [
      {
       "metadata": {},
       "output_type": "pyout",
       "prompt_number": 377,
       "text": [
        "[(u'Yuvraj Singh', 42.72474410184754),\n",
        " (u'RG Sharma', 61.37166297164676),\n",
        " (u'R Ashwin', 69.06634581195773),\n",
        " (u'SK Raina', 72.51599062529999),\n",
        " (u'V Kohli', 84.22472583507295),\n",
        " (u'RA Jadeja', 92.94748556391096)]"
       ]
      }
     ],
     "prompt_number": 377
    },
    {
     "cell_type": "code",
     "collapsed": false,
     "input": [
      "allstars = [\n",
      "    \"SR Watson\",\n",
      "    \"HM Amla\",\n",
      "    \"V Kohli\",\n",
      "    \"KC Sangakkara\",\n",
      "    \"AB de Villiers\",\n",
      "    \"MS Dhoni\",\n",
      "    \"Shahid Afridi\",\n",
      "    \"JC Tredwell\",\n",
      "    \"DW Steyn\",\n",
      "    \"Saeed Ajmal\",\n",
      "    \"JM Anderson\"\n",
      "]"
     ],
     "language": "python",
     "metadata": {},
     "outputs": [],
     "prompt_number": 372
    },
    {
     "cell_type": "code",
     "collapsed": false,
     "input": [
      "indiaXI = [\n",
      "    \"V Sehwag\",\n",
      "    \"S Dhawan\",\n",
      "    \"V Kohli\",\n",
      "    \"RG Sharma\",\n",
      "    \"SK Raina\",\n",
      "    \"MS Dhoni\",\n",
      "    \"RA Jadeja\",\n",
      "    \"R Ashwin\",\n",
      "    \"B Kumar\",\n",
      "    \"A Mishra\",\n",
      "    \"Mohammed Shami\"\n",
      "]"
     ],
     "language": "python",
     "metadata": {},
     "outputs": [],
     "prompt_number": 373
    },
    {
     "cell_type": "code",
     "collapsed": false,
     "input": [],
     "language": "python",
     "metadata": {},
     "outputs": []
    }
   ],
   "metadata": {}
  }
 ]
}